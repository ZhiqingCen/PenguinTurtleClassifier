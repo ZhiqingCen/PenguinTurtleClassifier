{
 "cells": [
  {
   "cell_type": "code",
   "execution_count": 5,
   "metadata": {
    "ExecuteTime": {
     "end_time": "2023-07-27T09:04:28.002049Z",
     "start_time": "2023-07-27T09:04:27.991522Z"
    },
    "collapsed": true
   },
   "outputs": [],
   "source": [
    "from PIL import Image\n",
    "import numpy as np\n",
    "import pandas as pd\n",
    "import json\n",
    "from tqdm import tqdm"
   ]
  },
  {
   "cell_type": "code",
   "execution_count": 6,
   "metadata": {
    "ExecuteTime": {
     "end_time": "2023-07-27T09:04:29.109283Z",
     "start_time": "2023-07-27T09:04:29.090981Z"
    },
    "collapsed": false
   },
   "outputs": [],
   "source": [
    "output_path = 'new/mixup/'\n",
    "penguin_path = 'new/train/penguin/'\n",
    "turtle_path = 'new/train/turtle/'\n",
    "train_annotations = pd.read_json('new/train_annotations')\n",
    "#train_annotations = train_annotations[train_annotations['image_id'] < 500]\n",
    "penguin_order = train_annotations[train_annotations['category_id'] == 0]['image_id'].to_numpy()\n",
    "penguin_order = np.random.permutation(penguin_order)\n",
    "turtle_order = train_annotations[train_annotations['category_id'] == 1]['image_id'].to_numpy()\n",
    "turtle_order = np.random.permutation(turtle_order)"
   ]
  },
  {
   "cell_type": "code",
   "execution_count": 11,
   "metadata": {
    "ExecuteTime": {
     "end_time": "2023-07-27T09:10:59.488943Z",
     "start_time": "2023-07-27T09:10:35.299124Z"
    },
    "collapsed": false
   },
   "outputs": [
    {
     "name": "stderr",
     "output_type": "stream",
     "text": [
      "100%|██████████| 2250/2250 [00:24<00:00, 93.10it/s]\n"
     ]
    }
   ],
   "source": [
    "# Generate mixup between two images\n",
    "def mixup(image1, image2):\n",
    "    # Generate image weight (minimum 0.4 and maximum 0.6)\n",
    "    lam = np.clip(np.random.beta(0.2, 0.2), 0.4, 0.6)\n",
    "    lam=round(lam,2)\n",
    "    #print(f'lambda: {lam}')\n",
    "\n",
    "    # Weighted Mixup\n",
    "    mixedup_image = lam * image1 + (1 - lam) * image2\n",
    "    return mixedup_image, lam\n",
    "\n",
    "df = []\n",
    "image_id = 5000\n",
    "for i, v in enumerate(tqdm(penguin_order)):\n",
    "    p = Image.open(penguin_path + 'image_id_' + str(v) + '.jpg')\n",
    "    v2 = turtle_order[i]\n",
    "    t = Image.open(turtle_path + 'image_id_' + str(v2) + '.jpg')\n",
    "    m, prob = mixup(p, t)\n",
    "    m = np.asarray(m, dtype=np.uint8)\n",
    "    im = Image.fromarray(m)\n",
    "    im.save(output_path + \"mixup_image_id_\" + str(image_id) + \".jpg\")\n",
    "    p_bbox = train_annotations[train_annotations['image_id'] == int(v)].values[0][2]\n",
    "    p_area = train_annotations[train_annotations['image_id'] == int(v)].values[0][3]\n",
    "    t_bbox = train_annotations[train_annotations['image_id'] == int(v2)].values[0][2]\n",
    "    t_area = train_annotations[train_annotations['image_id'] == int(v2)].values[0][3]\n",
    "    d = {\"image_id\": image_id, \"category_id\": [prob, 1 - prob], \"bbox\": [p_bbox, t_bbox],\n",
    "         \"area\": [p_area, t_area]}\n",
    "    image_id += 1\n",
    "    df.append(d)\n",
    "\n",
    "file_path = 'new/mixup_annotation.json'\n",
    "with open(file_path, 'w') as file:\n",
    "    json.dump(df, file)"
   ]
  }
 ],
 "metadata": {
  "kernelspec": {
   "display_name": "Python 3",
   "language": "python",
   "name": "python3"
  },
  "language_info": {
   "codemirror_mode": {
    "name": "ipython",
    "version": 2
   },
   "file_extension": ".py",
   "mimetype": "text/x-python",
   "name": "python",
   "nbconvert_exporter": "python",
   "pygments_lexer": "ipython2",
   "version": "2.7.6"
  }
 },
 "nbformat": 4,
 "nbformat_minor": 0
}
